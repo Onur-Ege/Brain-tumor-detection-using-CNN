{
 "cells": [
  {
   "cell_type": "markdown",
   "id": "7e765fc7-209f-455a-9f05-309b809d9bce",
   "metadata": {},
   "source": [
    "# Brain tumor detection using CNN"
   ]
  },
  {
   "cell_type": "markdown",
   "id": "3fc9e03f-59a5-4240-882b-d6cec9be3d6a",
   "metadata": {},
   "source": [
    "dataset link: https://www.kaggle.com/navoneel/brain-mri-images-for-brain-tumor-detection"
   ]
  },
  {
   "cell_type": "markdown",
   "id": "141f44f3-0c8e-4029-aa34-4d66e83a6ce8",
   "metadata": {},
   "source": [
    "## Importing necessary packages"
   ]
  },
  {
   "cell_type": "code",
   "execution_count": 229,
   "id": "9ad9b3a4-e49d-4bee-aeb8-04df3813d04c",
   "metadata": {},
   "outputs": [],
   "source": [
    "import numpy as np\n",
    "import torch\n",
    "from torch.utils.data import Dataset, DataLoader, ConcatDataset\n",
    "import glob\n",
    "import matplotlib.pyplot as plt\n",
    "from sklearn.metrics import confusion_matrix, accuracy_score\n",
    "import random\n",
    "import cv2\n",
    "import sys\n",
    "import os\n",
    "# Import train/test split function from sklearn\n",
    "from sklearn.model_selection import train_test_split"
   ]
  },
  {
   "cell_type": "markdown",
   "id": "41bc7349-ec80-44f9-9614-0c198cc54f9a",
   "metadata": {},
   "source": [
    "## Reading the images"
   ]
  },
  {
   "cell_type": "code",
   "execution_count": 230,
   "id": "105e98da-6c8d-49d6-8868-678249bbb44e",
   "metadata": {},
   "outputs": [],
   "source": [
    "data_dir = \"data/brain_tumor_dataset\"  # path of dataset\n",
    "tumor = []\n",
    "healthy = []\n",
    " \n",
    "for label, folder in enumerate(['no', 'yes']):\n",
    "    folder_path = os.path.join(data_dir, folder)                  # folder path for no and yes folders\n",
    "    for fname in os.listdir(folder_path):\n",
    "        fname = os.path.join(folder_path,fname)                   # folder path of images\n",
    "        if fname.endswith(('.jpg','.JPG' ,'.jpeg', '.png')):\n",
    "            img = cv2.imread(fname)                               # read image \n",
    "            img = cv2.resize(img,(128,128))                       # resize image to 128x128\n",
    "            b, g, r = cv2.split(img)                              # split images to its rgb channels\n",
    "            img = cv2.merge([r,g,b])                              # merge channel in right order\n",
    "            img = img.reshape((img.shape[2],img.shape[0],img.shape[1]))\n",
    "            if folder == \"no\":\n",
    "                healthy.append(img)                               \n",
    "            else:\n",
    "                tumor.append(img)"
   ]
  },
  {
   "cell_type": "code",
   "execution_count": 231,
   "id": "290ce308-6835-462d-b431-a1300e98926a",
   "metadata": {},
   "outputs": [],
   "source": [
    "# convert lists to numpy array and concatenate \n",
    "healthy = np.array(healthy,dtype=np.float32)\n",
    "tumor = np.array(tumor,dtype=np.float32)\n",
    "\n",
    "# our labels\n",
    "tumor_label = np.ones(tumor.shape[0], dtype=np.float32)\n",
    "healthy_label = np.zeros(healthy.shape[0], dtype=np.float32)"
   ]
  },
  {
   "cell_type": "code",
   "execution_count": 232,
   "id": "e5ef7f37-4141-4614-bf37-4b3196a1e3ac",
   "metadata": {},
   "outputs": [
    {
     "data": {
      "text/plain": [
       "(98, 3, 128, 128)"
      ]
     },
     "execution_count": 232,
     "metadata": {},
     "output_type": "execute_result"
    }
   ],
   "source": [
    "healthy.shape"
   ]
  },
  {
   "cell_type": "code",
   "execution_count": 233,
   "id": "61439b5b-dcf9-4e17-a5c9-232080807f39",
   "metadata": {},
   "outputs": [
    {
     "data": {
      "text/plain": [
       "(155, 3, 128, 128)"
      ]
     },
     "execution_count": 233,
     "metadata": {},
     "output_type": "execute_result"
    }
   ],
   "source": [
    "tumor.shape"
   ]
  },
  {
   "cell_type": "code",
   "execution_count": 234,
   "id": "51de761d-afa2-40fa-bb4b-a9b332a40cab",
   "metadata": {},
   "outputs": [
    {
     "data": {
      "text/plain": [
       "array([6, 8, 9, 7, 2])"
      ]
     },
     "execution_count": 234,
     "metadata": {},
     "output_type": "execute_result"
    }
   ],
   "source": [
    "np.random.choice(10, 5, replace=False)"
   ]
  },
  {
   "cell_type": "markdown",
   "id": "5ac1a71a-f253-4658-b984-ac0bda637a19",
   "metadata": {},
   "source": [
    "## Create Torch Dataset Class"
   ]
  },
  {
   "cell_type": "markdown",
   "id": "e93746e8-01ea-4e3d-b0f2-aa7df378ff7f",
   "metadata": {},
   "source": [
    "### PyTrorch abstract dataset class"
   ]
  },
  {
   "cell_type": "code",
   "execution_count": 235,
   "id": "a9a27330-8473-4e0c-a7af-76351040c47e",
   "metadata": {},
   "outputs": [],
   "source": [
    "class Dataset(object):\n",
    "    \"\"\"An abstract class representing a Dataset.\n",
    "\n",
    "    All other datasets should subclass it. All subclasses should override\n",
    "    ``__len__``, that provides the size of the dataset, and ``__getitem__``,\n",
    "    supporting integer indexing in range from 0 to len(self) exclusive.\n",
    "    \"\"\"\n",
    "\n",
    "    def __getitem__(self, index):\n",
    "        raise NotImplementedError\n",
    "\n",
    "    def __len__(self):\n",
    "        raise NotImplementedError\n",
    "\n",
    "    def __add__(self, other):\n",
    "        return ConcatDataset([self, other])"
   ]
  },
  {
   "cell_type": "markdown",
   "id": "0e747a5a-f9c5-459a-a1e1-979e19fe70f7",
   "metadata": {},
   "source": [
    "### Creating BrainMRDataset custom dataset class"
   ]
  },
  {
   "cell_type": "code",
   "execution_count": 236,
   "id": "553c83b0-6872-45bb-a925-3bc81ad22743",
   "metadata": {},
   "outputs": [],
   "source": [
    "class BrainMrDataset(Dataset):\n",
    "    def __init__(self,tumor,healthy):\n",
    "        \n",
    "        # Variables to hold the Training data and Validation data\n",
    "        self.X_train, self.y_train, self.X_val, self.y_val = None, None, None, None\n",
    "        \n",
    "        # A variable to determine if we are interested in retrieving the training OR the validation data\n",
    "        self.mode = 'train'\n",
    "        \n",
    "        # Concatenates\n",
    "        self.images = np.concatenate((tumor, healthy), axis=0)\n",
    "        self.labels = np.concatenate((tumor_label, healthy_label))\n",
    "        \n",
    "    # Define a function that would separate the data into Training and Validation sets\n",
    "    def train_val_split(self):\n",
    "        self.X_train, self.X_val, self.y_train, self.y_val = train_test_split(self.images, self.labels, test_size=0.20, random_state=42)\n",
    "    \n",
    "    def __len__(self):\n",
    "        # Use self.mode to deetrmine whether train or val data is of interest\n",
    "        if self.mode == 'train':\n",
    "            return self.X_train.shape[0]\n",
    "        elif self.mode == 'val':\n",
    "            return self.X_val.shape[0]\n",
    "    \n",
    "    def __getitem__(self, index):\n",
    "        # Use self.mode to deetrmine whether train or val data is of interest\n",
    "        if self.mode== 'train':\n",
    "            sample = {'image': self.X_train[index], 'label': self.y_train[index]}\n",
    "        \n",
    "        elif self.mode== 'val':\n",
    "            sample = {'image': self.X_val[index], 'label': self.y_val[index]}\n",
    "        \n",
    "        return sample\n",
    "    \n",
    "    def normalize(self):\n",
    "        self.images = self.images/255.0"
   ]
  },
  {
   "cell_type": "markdown",
   "id": "39d3635f-ba2f-4aae-9204-da075c215c52",
   "metadata": {},
   "source": [
    "## Creating Model"
   ]
  },
  {
   "cell_type": "code",
   "execution_count": 237,
   "id": "eb80658d-b38e-4bdc-9fc3-7cce05f25c26",
   "metadata": {},
   "outputs": [],
   "source": [
    "import torch.nn as nn\n",
    "import torch.nn.functional as F"
   ]
  },
  {
   "cell_type": "code",
   "execution_count": 238,
   "id": "56b0fedc-4a9b-4498-9e73-dc6a686dab2d",
   "metadata": {},
   "outputs": [],
   "source": [
    "class CNN(nn.Module):\n",
    "    def __init__(self):\n",
    "        super(CNN,self).__init__()\n",
    "        \n",
    "        # first conv. layer \n",
    "        self.cnn1 = nn.Conv2d(in_channels=3, out_channels=32, kernel_size=3, padding=1)\n",
    "        # batch normalization for first layer\n",
    "        self.bn1 = nn.BatchNorm2d(32)\n",
    "        # activation func.\n",
    "        self.relu = nn.ReLU()\n",
    "        # using avg pooling\n",
    "        self.maxPool = nn.MaxPool2d(kernel_size=2, stride=2)\n",
    "        # second conv. layer\n",
    "        self.cnn2 = nn.Conv2d(in_channels=32, out_channels=64, kernel_size=3, padding=1)\n",
    "        # batch normalization for first layer\n",
    "        self.bn2 = nn.BatchNorm2d(64)\n",
    "        # Third convolutional block\n",
    "        self.cnn3 = nn.Conv2d(in_channels=64, out_channels=128, kernel_size=3, padding=1)\n",
    "        # batch normalization for third layer\n",
    "        self.bn3 = nn.BatchNorm2d(128)\n",
    "\n",
    "         # Adaptive Average Pooling\n",
    "        self.global_avg_pool = nn.AdaptiveAvgPool2d((1, 1))\n",
    "\n",
    "        # fully connected layers\n",
    "        self.fc1 = nn.Linear(in_features=128, out_features=84)\n",
    "        self.fc2 = nn.Linear(in_features=84, out_features=64)\n",
    "        self.fc3 = nn.Linear(in_features=64, out_features=1)\n",
    "\n",
    "        self.dropout = nn.Dropout(0.5)\n",
    "\n",
    "    def forward(self, out):\n",
    "        # First block\n",
    "        out = self.cnn1(out)\n",
    "        out = self.bn1(out)\n",
    "        out = self.relu(out)\n",
    "        out = self.maxPool(out)\n",
    "\n",
    "        # Second block\n",
    "        out = self.cnn2(out)\n",
    "        out = self.bn2(out)\n",
    "        out = self.relu(out)\n",
    "        out = self.maxPool(out)\n",
    "\n",
    "        # Third block\n",
    "        out = self.cnn3(out)\n",
    "        out = self.bn3(out)\n",
    "        out = self.relu(out)\n",
    "        out = self.maxPool(out)\n",
    "        \n",
    "        # Global average pooling\n",
    "        out = self.global_avg_pool(out)\n",
    "        \n",
    "        # flatten our images\n",
    "        out = out.view(out.size(0), -1)\n",
    "        \"\"\" \n",
    "            .size method return (number of batches, number of channels, x , y) \n",
    "            for our example size is (32, 3, 128, 128) 32 images that has 3 channels and size of images is 128x128\n",
    "            x.size(0) is  number of samples in a batch(size of a batch) \n",
    "\n",
    "            The -1 is a special value in PyTorch that tells the view function to automatically infer the size of this dimension\n",
    "\n",
    "            The view function reshapes the tensor without changing its data. The total number of elements in the tensor remains the same. \n",
    "            flatten images independently ***\n",
    "            For example, if out originally has a shape of (batch_size, channels, height, width), the view call will reshape it to (batch_size, channels * height * width)\n",
    "            if we have a tensor that size of (2, 2, 2, 2)\n",
    "            x.view(x.size(0), -1).shape   =>  2,8 \n",
    "        \"\"\"\n",
    "\n",
    "        # forward to the fully connected layer\n",
    "        out = self.fc1(out)\n",
    "        out = self.relu(out)\n",
    "        out = self.dropout(out)\n",
    "        out = self.fc2(out)\n",
    "        out = self.relu(out)\n",
    "        out = self.dropout(out)\n",
    "        out = self.fc3(out)\n",
    "        out = F.sigmoid(out)\n",
    "\n",
    "        return out"
   ]
  },
  {
   "cell_type": "code",
   "execution_count": 239,
   "id": "512a6491-b2f3-4e17-93db-091e7c95b6d3",
   "metadata": {},
   "outputs": [],
   "source": [
    "model = CNN()"
   ]
  },
  {
   "cell_type": "code",
   "execution_count": 240,
   "id": "c28647a5-d39b-4eb1-ba34-731c01b330c6",
   "metadata": {},
   "outputs": [
    {
     "data": {
      "text/plain": [
       "CNN(\n",
       "  (cnn1): Conv2d(3, 32, kernel_size=(3, 3), stride=(1, 1), padding=(1, 1))\n",
       "  (bn1): BatchNorm2d(32, eps=1e-05, momentum=0.1, affine=True, track_running_stats=True)\n",
       "  (relu): ReLU()\n",
       "  (maxPool): MaxPool2d(kernel_size=2, stride=2, padding=0, dilation=1, ceil_mode=False)\n",
       "  (cnn2): Conv2d(32, 64, kernel_size=(3, 3), stride=(1, 1), padding=(1, 1))\n",
       "  (bn2): BatchNorm2d(64, eps=1e-05, momentum=0.1, affine=True, track_running_stats=True)\n",
       "  (cnn3): Conv2d(64, 128, kernel_size=(3, 3), stride=(1, 1), padding=(1, 1))\n",
       "  (bn3): BatchNorm2d(128, eps=1e-05, momentum=0.1, affine=True, track_running_stats=True)\n",
       "  (global_avg_pool): AdaptiveAvgPool2d(output_size=(1, 1))\n",
       "  (fc1): Linear(in_features=128, out_features=84, bias=True)\n",
       "  (fc2): Linear(in_features=84, out_features=64, bias=True)\n",
       "  (fc3): Linear(in_features=64, out_features=1, bias=True)\n",
       "  (dropout): Dropout(p=0.5, inplace=False)\n",
       ")"
      ]
     },
     "execution_count": 240,
     "metadata": {},
     "output_type": "execute_result"
    }
   ],
   "source": [
    "model"
   ]
  },
  {
   "cell_type": "markdown",
   "id": "2d0bea1e-9386-4964-9aba-6359ce953ce8",
   "metadata": {},
   "source": [
    "## Training Model"
   ]
  },
  {
   "cell_type": "code",
   "execution_count": 241,
   "id": "a17c1f3c-8067-4bb8-ab1f-544ea1455206",
   "metadata": {},
   "outputs": [],
   "source": [
    "dataset = BrainMrDataset(tumor, healthy)\n",
    "dataset.normalize()\n",
    "dataset.train_val_split()"
   ]
  },
  {
   "cell_type": "code",
   "execution_count": 242,
   "id": "a5514724-2131-4995-aa1d-17f19ddbf4af",
   "metadata": {},
   "outputs": [],
   "source": [
    "train_dataloader = DataLoader(dataset, batch_size=32, shuffle=True)\n",
    "val_dataloader = DataLoader(dataset, batch_size=32, shuffle=False)"
   ]
  },
  {
   "cell_type": "code",
   "execution_count": 243,
   "id": "b1a78027-92d1-4c32-8061-cc6c5045f296",
   "metadata": {},
   "outputs": [],
   "source": [
    "device = torch.device(\"cuda:0\")\n",
    "model = CNN().to(device)"
   ]
  },
  {
   "cell_type": "code",
   "execution_count": 244,
   "id": "7e469c6c-c0c7-426a-867f-5f076e3b5517",
   "metadata": {},
   "outputs": [],
   "source": [
    "eta=0.0001\n",
    "optimizer = torch.optim.Adam(model.parameters(), lr=eta)"
   ]
  },
  {
   "cell_type": "code",
   "execution_count": 245,
   "id": "5aeade99-4a2f-4761-915a-95f8cba40af1",
   "metadata": {},
   "outputs": [],
   "source": [
    "# keep track of epoch losses\n",
    "epoch_train_loss = []\n",
    "epoch_val_loss = []"
   ]
  },
  {
   "cell_type": "code",
   "execution_count": 246,
   "id": "be12bc11-a342-44df-9d67-031a834b95a4",
   "metadata": {},
   "outputs": [
    {
     "name": "stdout",
     "output_type": "stream",
     "text": [
      "Train Epoch: 2\tTrain Loss: 0.685839\tVal Loss: 0.693112\n",
      "Train Epoch: 3\tTrain Loss: 0.677049\tVal Loss: 0.691561\n",
      "Train Epoch: 4\tTrain Loss: 0.680158\tVal Loss: 0.688882\n",
      "Train Epoch: 5\tTrain Loss: 0.656651\tVal Loss: 0.683033\n",
      "Train Epoch: 6\tTrain Loss: 0.661410\tVal Loss: 0.671648\n",
      "Train Epoch: 7\tTrain Loss: 0.634668\tVal Loss: 0.659976\n",
      "Train Epoch: 8\tTrain Loss: 0.631664\tVal Loss: 0.649500\n",
      "Train Epoch: 9\tTrain Loss: 0.625174\tVal Loss: 0.640928\n",
      "Train Epoch: 10\tTrain Loss: 0.613663\tVal Loss: 0.635377\n",
      "Train Epoch: 11\tTrain Loss: 0.612238\tVal Loss: 0.627821\n",
      "Train Epoch: 12\tTrain Loss: 0.602971\tVal Loss: 0.621814\n",
      "Train Epoch: 13\tTrain Loss: 0.616850\tVal Loss: 0.616640\n",
      "Train Epoch: 14\tTrain Loss: 0.613448\tVal Loss: 0.611820\n",
      "Train Epoch: 15\tTrain Loss: 0.599592\tVal Loss: 0.606238\n",
      "Train Epoch: 16\tTrain Loss: 0.580114\tVal Loss: 0.603417\n",
      "Train Epoch: 17\tTrain Loss: 0.592605\tVal Loss: 0.597642\n",
      "Train Epoch: 18\tTrain Loss: 0.578148\tVal Loss: 0.589354\n",
      "Train Epoch: 19\tTrain Loss: 0.562185\tVal Loss: 0.584767\n",
      "Train Epoch: 20\tTrain Loss: 0.566705\tVal Loss: 0.581871\n",
      "Train Epoch: 21\tTrain Loss: 0.554234\tVal Loss: 0.580281\n",
      "Train Epoch: 22\tTrain Loss: 0.565625\tVal Loss: 0.579499\n",
      "Train Epoch: 23\tTrain Loss: 0.547527\tVal Loss: 0.573776\n",
      "Train Epoch: 24\tTrain Loss: 0.556725\tVal Loss: 0.566257\n",
      "Train Epoch: 25\tTrain Loss: 0.535387\tVal Loss: 0.563468\n",
      "Train Epoch: 26\tTrain Loss: 0.536657\tVal Loss: 0.566570\n",
      "Train Epoch: 27\tTrain Loss: 0.536924\tVal Loss: 0.562646\n",
      "Train Epoch: 28\tTrain Loss: 0.547476\tVal Loss: 0.556111\n",
      "Train Epoch: 29\tTrain Loss: 0.516752\tVal Loss: 0.543100\n",
      "Train Epoch: 30\tTrain Loss: 0.517973\tVal Loss: 0.538488\n",
      "Train Epoch: 31\tTrain Loss: 0.495345\tVal Loss: 0.532138\n",
      "Train Epoch: 32\tTrain Loss: 0.521329\tVal Loss: 0.533416\n",
      "Train Epoch: 33\tTrain Loss: 0.523869\tVal Loss: 0.552090\n",
      "Train Epoch: 34\tTrain Loss: 0.496411\tVal Loss: 0.565414\n",
      "Train Epoch: 35\tTrain Loss: 0.505411\tVal Loss: 0.550462\n",
      "Train Epoch: 36\tTrain Loss: 0.516768\tVal Loss: 0.525277\n",
      "Train Epoch: 37\tTrain Loss: 0.518723\tVal Loss: 0.531310\n",
      "Train Epoch: 38\tTrain Loss: 0.492166\tVal Loss: 0.512313\n",
      "Train Epoch: 39\tTrain Loss: 0.526242\tVal Loss: 0.502008\n",
      "Train Epoch: 40\tTrain Loss: 0.507626\tVal Loss: 0.512421\n",
      "Train Epoch: 41\tTrain Loss: 0.486575\tVal Loss: 0.508110\n",
      "Train Epoch: 42\tTrain Loss: 0.490482\tVal Loss: 0.521733\n",
      "Train Epoch: 43\tTrain Loss: 0.487385\tVal Loss: 0.532861\n",
      "Train Epoch: 44\tTrain Loss: 0.485200\tVal Loss: 0.529430\n",
      "Train Epoch: 45\tTrain Loss: 0.456172\tVal Loss: 0.509159\n",
      "Train Epoch: 46\tTrain Loss: 0.461236\tVal Loss: 0.492827\n",
      "Train Epoch: 47\tTrain Loss: 0.496998\tVal Loss: 0.494029\n",
      "Train Epoch: 48\tTrain Loss: 0.479163\tVal Loss: 0.523366\n",
      "Train Epoch: 49\tTrain Loss: 0.471973\tVal Loss: 0.493008\n",
      "Train Epoch: 50\tTrain Loss: 0.510505\tVal Loss: 0.525142\n"
     ]
    }
   ],
   "source": [
    "for epoch in range(1,50):\n",
    "    train_losses = []\n",
    "    # train for the current epoch\n",
    "    model.train()\n",
    "    dataset.mode = 'train'\n",
    "    for D in train_dataloader:\n",
    "        # Train the model\n",
    "        optimizer.zero_grad()\n",
    "        data = D['image'].to(device)\n",
    "        label = D['label'].to(device)\n",
    "        \n",
    "        y_hat = model(data)\n",
    "        error = nn.BCELoss()\n",
    "        loss = torch.sum(error(y_hat.squeeze(), label))\n",
    "        loss.backward()\n",
    "        optimizer.step()\n",
    "        train_losses.append(loss.item())\n",
    "    \n",
    "    epoch_train_loss.append(np.mean(train_losses))\n",
    "    \n",
    "    # validate for the current epoch\n",
    "    val_losses = []\n",
    "    model.eval()\n",
    "    \n",
    "    dataset.mode = 'val'\n",
    "    \n",
    "    with torch.no_grad():\n",
    "        for D in val_dataloader:            \n",
    "            data = D['image'].to(device)\n",
    "            label = D['label'].to(device)\n",
    "            y_hat = model(data)\n",
    "            error = nn.BCELoss()\n",
    "            loss = torch.sum(error(y_hat.squeeze(), label))\n",
    "            val_losses.append(loss.item())\n",
    "    \n",
    "    epoch_val_loss.append(np.mean(val_losses))\n",
    "    \n",
    "    \n",
    "    print('Train Epoch: {}\\tTrain Loss: {:.6f}\\tVal Loss: {:.6f}'.format(epoch+1, np.mean(train_losses),np.mean(val_losses)))\n",
    "    "
   ]
  },
  {
   "cell_type": "code",
   "execution_count": 247,
   "id": "95c6784d-b1cf-4ce7-b833-24fa88bfdcec",
   "metadata": {},
   "outputs": [
    {
     "data": {
      "text/plain": [
       "Text(0, 0.5, 'Loss')"
      ]
     },
     "execution_count": 247,
     "metadata": {},
     "output_type": "execute_result"
    },
    {
     "data": {
      "image/png": "[encoded data removed]",
      "text/plain": [
       "<Figure size 1600x900 with 1 Axes>"
      ]
     },
     "metadata": {},
     "output_type": "display_data"
    }
   ],
   "source": [
    "plt.figure(figsize=(16,9))\n",
    "plt.plot(epoch_train_loss, c='b', label='Train loss')\n",
    "plt.plot(epoch_val_loss, c='r', label = 'Validation loss')\n",
    "plt.legend()\n",
    "plt.grid()\n",
    "plt.xlabel('Epochs', fontsize=20)\n",
    "plt.ylabel('Loss', fontsize=20)"
   ]
  },
  {
   "cell_type": "code",
   "execution_count": null,
   "id": "3fd62872-2c03-4d21-9954-24ee6b01d883",
   "metadata": {},
   "outputs": [],
   "source": []
  },
  {
   "cell_type": "code",
   "execution_count": null,
   "id": "e7028376-67a4-4add-a9f8-d96442c9eb8d",
   "metadata": {},
   "outputs": [],
   "source": []
  }
 ],
 "metadata": {
  "kernelspec": {
   "display_name": "Python 3 (ipykernel)",
   "language": "python",
   "name": "python3"
  },
  "language_info": {
   "codemirror_mode": {
    "name": "ipython",
    "version": 3
   },
   "file_extension": ".py",
   "mimetype": "text/x-python",
   "name": "python",
   "nbconvert_exporter": "python",
   "pygments_lexer": "ipython3",
   "version": "3.11.7"
  }
 },
 "nbformat": 4,
 "nbformat_minor": 5
}
